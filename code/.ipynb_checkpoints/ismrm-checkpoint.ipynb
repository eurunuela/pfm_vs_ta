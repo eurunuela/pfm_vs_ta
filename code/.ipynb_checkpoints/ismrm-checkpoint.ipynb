{
 "metadata": {
  "language_info": {
   "codemirror_mode": {
    "name": "ipython",
    "version": 3
   },
   "file_extension": ".py",
   "mimetype": "text/x-python",
   "name": "python",
   "nbconvert_exporter": "python",
   "pygments_lexer": "ipython3",
   "version": "3.8.3-final"
  },
  "orig_nbformat": 2,
  "kernelspec": {
   "name": "python3",
   "display_name": "Python 3",
   "language": "python"
  }
 },
 "nbformat": 4,
 "nbformat_minor": 2,
 "cells": [
  {
   "cell_type": "code",
   "execution_count": 1,
   "metadata": {},
   "outputs": [],
   "source": [
    "import matplotlib\n",
    "import matplotlib.pyplot as plt\n",
    "import numpy as np\n",
    "\n",
    "from Scripts.hrf_matrix import HRFMatrix"
   ]
  },
  {
   "cell_type": "code",
   "execution_count": 2,
   "metadata": {},
   "outputs": [
    {
     "output_type": "error",
     "ename": "NameError",
     "evalue": "name 'params' is not defined",
     "traceback": [
      "\u001b[0;31m---------------------------------------------------------------------------\u001b[0m",
      "\u001b[0;31mNameError\u001b[0m                                 Traceback (most recent call last)",
      "\u001b[0;32m<ipython-input-2-b824b542a3d0>\u001b[0m in \u001b[0;36m<module>\u001b[0;34m\u001b[0m\n\u001b[1;32m      2\u001b[0m \u001b[0;34m\u001b[0m\u001b[0m\n\u001b[1;32m      3\u001b[0m \u001b[0;31m# Generate design matrix (shifted HRFs) for PFM with the spike model\u001b[0m\u001b[0;34m\u001b[0m\u001b[0;34m\u001b[0m\u001b[0;34m\u001b[0m\u001b[0m\n\u001b[0;32m----> 4\u001b[0;31m \u001b[0mhrf_matrix_01\u001b[0m \u001b[0;34m=\u001b[0m \u001b[0mHRFMatrix\u001b[0m\u001b[0;34m(\u001b[0m\u001b[0mTR\u001b[0m\u001b[0;34m=\u001b[0m\u001b[0mparams\u001b[0m\u001b[0;34m[\u001b[0m\u001b[0;34m'tr'\u001b[0m\u001b[0;34m]\u001b[0m\u001b[0;34m,\u001b[0m \u001b[0mTE\u001b[0m\u001b[0;34m=\u001b[0m\u001b[0mparams\u001b[0m\u001b[0;34m[\u001b[0m\u001b[0;34m'te'\u001b[0m\u001b[0;34m]\u001b[0m\u001b[0;34m,\u001b[0m \u001b[0mnscans\u001b[0m\u001b[0;34m=\u001b[0m\u001b[0mnscans\u001b[0m\u001b[0;34m,\u001b[0m \u001b[0mr2only\u001b[0m\u001b[0;34m=\u001b[0m\u001b[0;32mTrue\u001b[0m\u001b[0;34m,\u001b[0m \u001b[0mhas_integrator\u001b[0m\u001b[0;34m=\u001b[0m\u001b[0;32mFalse\u001b[0m\u001b[0;34m,\u001b[0m \u001b[0mis_afni\u001b[0m\u001b[0;34m=\u001b[0m\u001b[0;32mTrue\u001b[0m\u001b[0;34m,\u001b[0m \u001b[0mlop_hrf\u001b[0m\u001b[0;34m=\u001b[0m\u001b[0;34m'SPMG1'\u001b[0m\u001b[0;34m)\u001b[0m\u001b[0;34m\u001b[0m\u001b[0;34m\u001b[0m\u001b[0m\n\u001b[0m\u001b[1;32m      5\u001b[0m \u001b[0mhrf_matrix_01\u001b[0m\u001b[0;34m.\u001b[0m\u001b[0mgenerate_hrf\u001b[0m\u001b[0;34m(\u001b[0m\u001b[0;34m)\u001b[0m\u001b[0;34m\u001b[0m\u001b[0;34m\u001b[0m\u001b[0m\n\u001b[1;32m      6\u001b[0m \u001b[0mhrf_SPMG1_01\u001b[0m \u001b[0;34m=\u001b[0m \u001b[0mhrf_matrix_01\u001b[0m\u001b[0;34m.\u001b[0m\u001b[0mX_hrf_norm\u001b[0m\u001b[0;34m\u001b[0m\u001b[0;34m\u001b[0m\u001b[0m\n",
      "\u001b[0;31mNameError\u001b[0m: name 'params' is not defined"
     ]
    }
   ],
   "source": [
    "nscans = 200\n",
    "params = {'tr': 0.1, 'cost_save': True, 'te': [0]} # This is for TA (to follow MATLAB code structure)\n",
    "# Generate design matrix (shifted HRFs) for PFM with the spike model\n",
    "hrf_matrix_01 = HRFMatrix(TR=params['tr'], TE=params['te'], nscans=nscans, r2only=True, has_integrator=False, is_afni=True, lop_hrf='SPMG1')\n",
    "hrf_matrix_01.generate_hrf()\n",
    "hrf_SPMG1_01 = hrf_matrix_01.X_hrf_norm\n",
    "\n",
    "# Generate hrf filter for TA with spike model\n",
    "params['model'] = 'spike'\n",
    "params['f_analyze'], params['f_recons'], params['maxeig'] = hrf_filters(params['tr'], condition=params['model'], condition2='spmhrf')\n",
    "n = params['f_recons']['den'][0]\n",
    "d = [np.array(params['f_recons']['num']), 1]\n",
    "\n",
    "test_data_01 = np.zeros(nscans)\n",
    "test_data_01[int(0/params['tr'])] = 1\n",
    "\n",
    "bold_pfm_01 = np.dot(hrf_SPMG1_01, test_data_01)\n",
    "bold_ta_01 = np.real(ta_filter(n, d, test_data_01.T, 'normal', nscans))\n",
    "\n",
    "# Generate design matrix (shifted HRFs) for PFM with the spike model\n",
    "hrf_matrix_2 = HRFMatrix(TR=2, TE=params['te'], nscans=nscans, r2only=True, has_integrator=False, is_afni=True, lop_hrf='SPMG1')\n",
    "hrf_matrix_2.generate_hrf()\n",
    "hrf_SPMG1_2 = hrf_matrix_2.X_hrf_norm\n",
    "\n",
    "# Generate hrf filter for TA with spike model\n",
    "params = {'tr': 2, 'cost_save': True, 'te': [0]} # This is for TA (to follow MATLAB code structure)\n",
    "params['model'] = 'spike'\n",
    "params['f_analyze'], params['f_recons'], params['maxeig'] = hrf_filters(params['tr'], condition=params['model'], condition2='spmhrf')\n",
    "n = params['f_recons']['den'][0]\n",
    "d = [np.array(params['f_recons']['num']), 1]\n",
    "\n",
    "test_data_2 = np.zeros(nscans)\n",
    "test_data_2[int(0/params['tr'])] = 1\n",
    "\n",
    "bold_pfm_2 = np.dot(hrf_SPMG1_2, test_data_2)\n",
    "bold_ta_2 = np.real(ta_filter(n, d, test_data_2.T, 'normal', nscans))\n",
    "\n",
    "time_idx = np.where(time > 40)[0][0]\n"
   ]
  },
  {
   "cell_type": "code",
   "execution_count": null,
   "metadata": {},
   "outputs": [],
   "source": [
    "plt.figure(figsize=(25,8))\n",
    "plt.plot(time[:time_idx], bold_pfm[:time_idx], label='PFM', color='tab:blue')\n",
    "plt.plot(time[:time_idx], bold_ta[:time_idx], label='TA', color='tab:orange')\n",
    "plt.plot(time[:time_idx], bold_pfm[:time_idx], label='PFM', color='tab:blue')\n",
    "plt.plot(time[:time_idx], bold_ta[:time_idx], label='TA', color='tab:orange')\n",
    "plt.xlabel('Time (s)')\n",
    "plt.ylabel('Amplitude')\n",
    "plt.legend()"
   ]
  }
 ]
}